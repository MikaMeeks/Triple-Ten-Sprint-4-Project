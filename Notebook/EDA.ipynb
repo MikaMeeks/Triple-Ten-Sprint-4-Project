{
 "cells": [
  {
   "cell_type": "markdown",
   "metadata": {},
   "source": [
    "## Vehicle Breakdown Visuals"
   ]
  },
  {
   "cell_type": "markdown",
   "metadata": {},
   "source": [
    "Here we will be creating visuals on most common searches for people looking to buy vehicles. Optimizing the search for vehicles in inventory, based on model, odometer, cylinders, and transmission. Making the best choice of purchase easiest to find."
   ]
  },
  {
   "cell_type": "code",
   "execution_count": 2,
   "metadata": {},
   "outputs": [],
   "source": [
    "import pandas as pd\n",
    "import plotly.express as px\n",
    "import streamlit as st\n",
    "df = pd.read_csv('vehicles_us.csv')"
   ]
  },
  {
   "cell_type": "code",
   "execution_count": 3,
   "metadata": {},
   "outputs": [
    {
     "data": {
      "text/html": [
       "<div>\n",
       "<style scoped>\n",
       "    .dataframe tbody tr th:only-of-type {\n",
       "        vertical-align: middle;\n",
       "    }\n",
       "\n",
       "    .dataframe tbody tr th {\n",
       "        vertical-align: top;\n",
       "    }\n",
       "\n",
       "    .dataframe thead th {\n",
       "        text-align: right;\n",
       "    }\n",
       "</style>\n",
       "<table border=\"1\" class=\"dataframe\">\n",
       "  <thead>\n",
       "    <tr style=\"text-align: right;\">\n",
       "      <th></th>\n",
       "      <th>price</th>\n",
       "      <th>model_year</th>\n",
       "      <th>model</th>\n",
       "      <th>condition</th>\n",
       "      <th>cylinders</th>\n",
       "      <th>fuel</th>\n",
       "      <th>odometer</th>\n",
       "      <th>transmission</th>\n",
       "      <th>type</th>\n",
       "      <th>paint_color</th>\n",
       "      <th>is_4wd</th>\n",
       "      <th>date_posted</th>\n",
       "      <th>days_listed</th>\n",
       "    </tr>\n",
       "  </thead>\n",
       "  <tbody>\n",
       "    <tr>\n",
       "      <th>4625</th>\n",
       "      <td>9990</td>\n",
       "      <td>2005.0</td>\n",
       "      <td>ford f-250 sd</td>\n",
       "      <td>good</td>\n",
       "      <td>8.0</td>\n",
       "      <td>gas</td>\n",
       "      <td>NaN</td>\n",
       "      <td>automatic</td>\n",
       "      <td>truck</td>\n",
       "      <td>white</td>\n",
       "      <td>NaN</td>\n",
       "      <td>2019-02-02</td>\n",
       "      <td>59</td>\n",
       "    </tr>\n",
       "    <tr>\n",
       "      <th>33013</th>\n",
       "      <td>4995</td>\n",
       "      <td>2009.0</td>\n",
       "      <td>chevrolet impala</td>\n",
       "      <td>excellent</td>\n",
       "      <td>6.0</td>\n",
       "      <td>gas</td>\n",
       "      <td>82000.0</td>\n",
       "      <td>automatic</td>\n",
       "      <td>sedan</td>\n",
       "      <td>grey</td>\n",
       "      <td>NaN</td>\n",
       "      <td>2018-05-18</td>\n",
       "      <td>27</td>\n",
       "    </tr>\n",
       "    <tr>\n",
       "      <th>11525</th>\n",
       "      <td>1</td>\n",
       "      <td>2018.0</td>\n",
       "      <td>chevrolet colorado</td>\n",
       "      <td>excellent</td>\n",
       "      <td>6.0</td>\n",
       "      <td>gas</td>\n",
       "      <td>8032.0</td>\n",
       "      <td>automatic</td>\n",
       "      <td>truck</td>\n",
       "      <td>white</td>\n",
       "      <td>1.0</td>\n",
       "      <td>2018-12-26</td>\n",
       "      <td>37</td>\n",
       "    </tr>\n",
       "    <tr>\n",
       "      <th>12289</th>\n",
       "      <td>5500</td>\n",
       "      <td>2001.0</td>\n",
       "      <td>chevrolet silverado 1500</td>\n",
       "      <td>good</td>\n",
       "      <td>8.0</td>\n",
       "      <td>gas</td>\n",
       "      <td>238465.0</td>\n",
       "      <td>automatic</td>\n",
       "      <td>pickup</td>\n",
       "      <td>brown</td>\n",
       "      <td>1.0</td>\n",
       "      <td>2019-01-31</td>\n",
       "      <td>62</td>\n",
       "    </tr>\n",
       "    <tr>\n",
       "      <th>34201</th>\n",
       "      <td>6000</td>\n",
       "      <td>2006.0</td>\n",
       "      <td>ford mustang</td>\n",
       "      <td>good</td>\n",
       "      <td>6.0</td>\n",
       "      <td>gas</td>\n",
       "      <td>103364.0</td>\n",
       "      <td>automatic</td>\n",
       "      <td>coupe</td>\n",
       "      <td>NaN</td>\n",
       "      <td>NaN</td>\n",
       "      <td>2018-10-19</td>\n",
       "      <td>46</td>\n",
       "    </tr>\n",
       "    <tr>\n",
       "      <th>6033</th>\n",
       "      <td>4000</td>\n",
       "      <td>2011.0</td>\n",
       "      <td>ford fusion</td>\n",
       "      <td>excellent</td>\n",
       "      <td>6.0</td>\n",
       "      <td>gas</td>\n",
       "      <td>130000.0</td>\n",
       "      <td>automatic</td>\n",
       "      <td>sedan</td>\n",
       "      <td>white</td>\n",
       "      <td>NaN</td>\n",
       "      <td>2018-11-12</td>\n",
       "      <td>24</td>\n",
       "    </tr>\n",
       "    <tr>\n",
       "      <th>28245</th>\n",
       "      <td>3695</td>\n",
       "      <td>2006.0</td>\n",
       "      <td>dodge grand caravan</td>\n",
       "      <td>good</td>\n",
       "      <td>6.0</td>\n",
       "      <td>gas</td>\n",
       "      <td>NaN</td>\n",
       "      <td>automatic</td>\n",
       "      <td>mini-van</td>\n",
       "      <td>red</td>\n",
       "      <td>NaN</td>\n",
       "      <td>2018-07-20</td>\n",
       "      <td>15</td>\n",
       "    </tr>\n",
       "    <tr>\n",
       "      <th>4394</th>\n",
       "      <td>17963</td>\n",
       "      <td>2012.0</td>\n",
       "      <td>jeep grand cherokee</td>\n",
       "      <td>excellent</td>\n",
       "      <td>6.0</td>\n",
       "      <td>gas</td>\n",
       "      <td>73375.0</td>\n",
       "      <td>automatic</td>\n",
       "      <td>SUV</td>\n",
       "      <td>black</td>\n",
       "      <td>1.0</td>\n",
       "      <td>2019-03-04</td>\n",
       "      <td>67</td>\n",
       "    </tr>\n",
       "    <tr>\n",
       "      <th>270</th>\n",
       "      <td>34900</td>\n",
       "      <td>2017.0</td>\n",
       "      <td>ford f-250 sd</td>\n",
       "      <td>excellent</td>\n",
       "      <td>8.0</td>\n",
       "      <td>gas</td>\n",
       "      <td>NaN</td>\n",
       "      <td>automatic</td>\n",
       "      <td>truck</td>\n",
       "      <td>white</td>\n",
       "      <td>1.0</td>\n",
       "      <td>2018-12-06</td>\n",
       "      <td>56</td>\n",
       "    </tr>\n",
       "    <tr>\n",
       "      <th>27505</th>\n",
       "      <td>6995</td>\n",
       "      <td>2011.0</td>\n",
       "      <td>gmc acadia</td>\n",
       "      <td>good</td>\n",
       "      <td>6.0</td>\n",
       "      <td>gas</td>\n",
       "      <td>160560.0</td>\n",
       "      <td>automatic</td>\n",
       "      <td>SUV</td>\n",
       "      <td>grey</td>\n",
       "      <td>NaN</td>\n",
       "      <td>2018-09-04</td>\n",
       "      <td>31</td>\n",
       "    </tr>\n",
       "  </tbody>\n",
       "</table>\n",
       "</div>"
      ],
      "text/plain": [
       "       price  model_year                     model  condition  cylinders fuel  \\\n",
       "4625    9990      2005.0             ford f-250 sd       good        8.0  gas   \n",
       "33013   4995      2009.0          chevrolet impala  excellent        6.0  gas   \n",
       "11525      1      2018.0        chevrolet colorado  excellent        6.0  gas   \n",
       "12289   5500      2001.0  chevrolet silverado 1500       good        8.0  gas   \n",
       "34201   6000      2006.0              ford mustang       good        6.0  gas   \n",
       "6033    4000      2011.0               ford fusion  excellent        6.0  gas   \n",
       "28245   3695      2006.0       dodge grand caravan       good        6.0  gas   \n",
       "4394   17963      2012.0       jeep grand cherokee  excellent        6.0  gas   \n",
       "270    34900      2017.0             ford f-250 sd  excellent        8.0  gas   \n",
       "27505   6995      2011.0                gmc acadia       good        6.0  gas   \n",
       "\n",
       "       odometer transmission      type paint_color  is_4wd date_posted  \\\n",
       "4625        NaN    automatic     truck       white     NaN  2019-02-02   \n",
       "33013   82000.0    automatic     sedan        grey     NaN  2018-05-18   \n",
       "11525    8032.0    automatic     truck       white     1.0  2018-12-26   \n",
       "12289  238465.0    automatic    pickup       brown     1.0  2019-01-31   \n",
       "34201  103364.0    automatic     coupe         NaN     NaN  2018-10-19   \n",
       "6033   130000.0    automatic     sedan       white     NaN  2018-11-12   \n",
       "28245       NaN    automatic  mini-van         red     NaN  2018-07-20   \n",
       "4394    73375.0    automatic       SUV       black     1.0  2019-03-04   \n",
       "270         NaN    automatic     truck       white     1.0  2018-12-06   \n",
       "27505  160560.0    automatic       SUV        grey     NaN  2018-09-04   \n",
       "\n",
       "       days_listed  \n",
       "4625            59  \n",
       "33013           27  \n",
       "11525           37  \n",
       "12289           62  \n",
       "34201           46  \n",
       "6033            24  \n",
       "28245           15  \n",
       "4394            67  \n",
       "270             56  \n",
       "27505           31  "
      ]
     },
     "metadata": {},
     "output_type": "display_data"
    },
    {
     "name": "stdout",
     "output_type": "stream",
     "text": [
      "<class 'pandas.core.frame.DataFrame'>\n",
      "RangeIndex: 51525 entries, 0 to 51524\n",
      "Data columns (total 13 columns):\n",
      " #   Column        Non-Null Count  Dtype  \n",
      "---  ------        --------------  -----  \n",
      " 0   price         51525 non-null  int64  \n",
      " 1   model_year    47906 non-null  float64\n",
      " 2   model         51525 non-null  object \n",
      " 3   condition     51525 non-null  object \n",
      " 4   cylinders     46265 non-null  float64\n",
      " 5   fuel          51525 non-null  object \n",
      " 6   odometer      43633 non-null  float64\n",
      " 7   transmission  51525 non-null  object \n",
      " 8   type          51525 non-null  object \n",
      " 9   paint_color   42258 non-null  object \n",
      " 10  is_4wd        25572 non-null  float64\n",
      " 11  date_posted   51525 non-null  object \n",
      " 12  days_listed   51525 non-null  int64  \n",
      "dtypes: float64(4), int64(2), object(7)\n",
      "memory usage: 5.1+ MB\n",
      "None\n"
     ]
    }
   ],
   "source": [
    "display(df.sample(10))\n",
    "print(df.info())"
   ]
  },
  {
   "cell_type": "markdown",
   "metadata": {},
   "source": [
    "Notes:\n",
    "Data loaded succesfully. Check for errors"
   ]
  },
  {
   "cell_type": "code",
   "execution_count": 4,
   "metadata": {},
   "outputs": [
    {
     "data": {
      "text/plain": [
       "0"
      ]
     },
     "execution_count": 4,
     "metadata": {},
     "output_type": "execute_result"
    }
   ],
   "source": [
    "df.duplicated().sum()"
   ]
  },
  {
   "cell_type": "markdown",
   "metadata": {},
   "source": [
    "Notes:\n",
    "no duplications, now we begin the visualization process"
   ]
  },
  {
   "cell_type": "code",
   "execution_count": 13,
   "metadata": {},
   "outputs": [
    {
     "name": "stderr",
     "output_type": "stream",
     "text": [
      "2024-08-21 11:35:56.282 \n",
      "  \u001b[33m\u001b[1mWarning:\u001b[0m to view this Streamlit app on a browser, run it with the following\n",
      "  command:\n",
      "\n",
      "    streamlit run c:\\Users\\iking\\anaconda3\\Lib\\site-packages\\ipykernel_launcher.py [ARGUMENTS]\n"
     ]
    },
    {
     "data": {
      "text/plain": [
       "DeltaGenerator()"
      ]
     },
     "execution_count": 13,
     "metadata": {},
     "output_type": "execute_result"
    }
   ],
   "source": [
    "# Group by 'model' and sum the 'odometer' values\n",
    "model_miles = df.groupby('model')['odometer'].sum().reset_index()\n",
    "\n",
    "# Streamlit app\n",
    "st.header('Total Miles by Model')\n",
    "\n",
    "# Plot the data\n",
    "fig, ax = plt.subplots(figsize=(21, 7))\n",
    "ax.bar(model_miles['model'], model_miles['odometer'], color='skyblue')\n",
    "ax.set_xlabel('Model')\n",
    "ax.set_ylabel('Total Miles')\n",
    "ax.set_title('Total Miles by Model')\n",
    "plt.xticks(rotation=90)\n",
    "plt.tight_layout()\n",
    "\n",
    "# Display the plot in Streamlit\n",
    "st.pyplot(fig)\n"
   ]
  },
  {
   "cell_type": "markdown",
   "metadata": {},
   "source": [
    "Notes:\n",
    "We now have a chart that shows the difference in each model based on the totals miles from the odometer. We can go further into depth by taking the top Brands and seeing if theres a differnce based on the number of cylinders."
   ]
  },
  {
   "cell_type": "code",
   "execution_count": 9,
   "metadata": {},
   "outputs": [],
   "source": [
    "# Streamlit app\n",
    "st.title('Miles by Number of Cylinders')\n",
    "\n",
    "# Create a scatter plot using Plotly Express\n",
    "fig = px.scatter(df, x='cylinders', y='odometer', \n",
    "                 title='Miles by Number of Cylinders',\n",
    "                 labels={'cylinders': 'Number of Cylinders', 'odometer': 'Miles'},\n",
    "                 color='cylinders')\n",
    "\n",
    "# Display the plot in Streamlit\n",
    "st.plotly_chart(fig)\n"
   ]
  },
  {
   "cell_type": "markdown",
   "metadata": {},
   "source": [
    "Notes:\n",
    "With the difference in cylinders now visualized, we can now include a chart for transmission to see the difference."
   ]
  },
  {
   "cell_type": "code",
   "execution_count": 7,
   "metadata": {},
   "outputs": [],
   "source": [
    "# Group by 'transmission' and calculate the average 'odometer' values\n",
    "transmission_avg_miles = df.groupby('transmission')['odometer'].mean().reset_index()\n",
    "\n",
    "# Streamlit app\n",
    "st.title('Average Miles by Transmission Type')\n",
    "\n",
    "# Create a scatter plot using Plotly Express\n",
    "fig = px.scatter(transmission_avg_miles, x='transmission', y='odometer', \n",
    "                 title='Average Miles by Transmission Type',\n",
    "                 labels={'transmission': 'Transmission Type', 'odometer': 'Average Miles'},\n",
    "                 color='transmission')\n",
    "\n",
    "# Display the plot in Streamlit\n",
    "st.plotly_chart(fig)"
   ]
  },
  {
   "cell_type": "markdown",
   "metadata": {},
   "source": [
    "Notes: Finally a histogram for a broad overview before we draw any conclusions."
   ]
  },
  {
   "cell_type": "code",
   "execution_count": 12,
   "metadata": {},
   "outputs": [],
   "source": [
    "# Streamlit app\n",
    "st.header('Vehicle Listings Analysis')\n",
    "\n",
    "# Checkbox to show/hide histogram\n",
    "show_histogram = st.checkbox('Show Price Histogram')\n",
    "\n",
    "if show_histogram:\n",
    "    fig_hist = px.histogram(df, x='price', title='Price Distribution')\n",
    "    st.plotly_chart(fig_hist)\n",
    "\n",
    "# Scatter plot\n",
    "fig_scatter = px.scatter(df, x='model_year', y='price', color='condition', title='Price vs. Model Year')\n",
    "st.plotly_chart(fig_scatter)"
   ]
  },
  {
   "cell_type": "markdown",
   "metadata": {},
   "source": [
    "Conclusion:\n",
    "The optimal choice for the selection of cars provided is to go with a \"v6\" \"manual transmission\" manufactured by either \"Ford\" or \"Chevrolet\""
   ]
  }
 ],
 "metadata": {
  "kernelspec": {
   "display_name": "base",
   "language": "python",
   "name": "python3"
  },
  "language_info": {
   "codemirror_mode": {
    "name": "ipython",
    "version": 3
   },
   "file_extension": ".py",
   "mimetype": "text/x-python",
   "name": "python",
   "nbconvert_exporter": "python",
   "pygments_lexer": "ipython3",
   "version": "3.12.4"
  }
 },
 "nbformat": 4,
 "nbformat_minor": 2
}
